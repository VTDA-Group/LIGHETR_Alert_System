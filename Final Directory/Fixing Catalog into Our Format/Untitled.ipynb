{
 "cells": [
  {
   "cell_type": "code",
   "execution_count": 1,
   "id": "6294222e",
   "metadata": {},
   "outputs": [],
   "source": [
    "import pandas as pd\n",
    "import numpy as np\n",
    "import sys\n",
    "sys.path.insert(0, '/Users/sky5265/Documents/GitHub/Astro_Code')\n",
    "from Astro_useful_funcs import *\n",
    "from Analysis_useful_funcs import *\n",
    "import time\n",
    "import pdb\n",
    "import math"
   ]
  },
  {
   "cell_type": "code",
   "execution_count": 2,
   "id": "9b47fc14",
   "metadata": {},
   "outputs": [],
   "source": [
    "def get_dist_mod(dist_Mpc):\n",
    "    \n",
    "    return 5*np.log10(dist_Mpc*1.0E6)-5\n",
    "\n",
    "def get_abs_from_app_mag(app_mag, dist_Mpc):\n",
    "    if math.isnan(app_mag) or math.isnan(dist_Mpc):\n",
    "        return float('nan')\n",
    "    return app_mag - get_dist_mod(dist_Mpc)"
   ]
  },
  {
   "cell_type": "code",
   "execution_count": 3,
   "id": "1339cbb4",
   "metadata": {},
   "outputs": [],
   "source": [
    "\n",
    "    \n",
    "\n",
    "chunks=pd.read_table(\"Full_Glade_Catalog.txt\", chunksize=1000000,sep=' ', usecols = [9,10,11,19,33], header=None)\n",
    "df=pd.DataFrame()\n",
    "df=pd.concat(chunks)"
   ]
  },
  {
   "cell_type": "code",
   "execution_count": 4,
   "id": "99fdd2d3",
   "metadata": {},
   "outputs": [
    {
     "name": "stdout",
     "output_type": "stream",
     "text": [
      "            RAJ2000  DEJ2000   B      K  dist_Mpc\n",
      "0         41.120152     8.80 NaN  0.015       NaN\n",
      "1         14.496320    10.85 NaN  0.018  3.263033\n",
      "2         70.144341    10.28 NaN  0.017  0.987781\n",
      "3          9.803620    11.29 NaN  0.017  2.484465\n",
      "4          8.749890    12.40 NaN    NaN  3.321809\n",
      "...             ...      ...  ..    ...       ...\n",
      "23181753  28.954734      NaN NaN    NaN       NaN\n",
      "23181754  34.720842      NaN NaN    NaN       NaN\n",
      "23181755   3.268586      NaN NaN    NaN       NaN\n",
      "23181756  20.721079      NaN NaN    NaN       NaN\n",
      "23181757  34.747133      NaN NaN    NaN       NaN\n",
      "\n",
      "[23181758 rows x 5 columns]\n",
      "            RAJ2000    DEJ2000   B      K  dist_Mpc\n",
      "0         41.120152   8.800000 NaN  0.015       NaN\n",
      "1         14.496320  10.850000 NaN  0.018  3.263033\n",
      "2         70.144341  10.280000 NaN  0.017  0.987781\n",
      "3          9.803620  11.290000 NaN  0.017  2.484465\n",
      "4          8.749890  12.400000 NaN    NaN  3.321809\n",
      "...             ...        ...  ..    ...       ...\n",
      "22431343  20.217400  21.069245 NaN    NaN       NaN\n",
      "22431344  20.301880  19.441744 NaN    NaN       NaN\n",
      "22431345  20.301830  20.201617 NaN    NaN       NaN\n",
      "22431346  20.240560  21.509365 NaN    NaN       NaN\n",
      "22431347  20.332600  21.415134 NaN    NaN       NaN\n",
      "\n",
      "[21640196 rows x 5 columns]\n"
     ]
    }
   ],
   "source": [
    "df.columns = ['RAJ2000','DEJ2000','B','K','dist_Mpc']\n",
    "\n",
    "print(df)\n",
    "\n",
    "\n",
    "HET_visible_galaxies = df.loc[(df['DEJ2000'] > -12) & (df['DEJ2000'] < 74)]\n",
    "print(HET_visible_galaxies)\n",
    "RA = HET_visible_galaxies['RAJ2000']\n",
    "Dec = HET_visible_galaxies['DEJ2000']\n",
    "B_app = HET_visible_galaxies['B']\n",
    "K_app = HET_visible_galaxies['K']\n",
    "dist_Mpc = HET_visible_galaxies['dist_Mpc']"
   ]
  },
  {
   "cell_type": "code",
   "execution_count": 7,
   "id": "237dd78f",
   "metadata": {},
   "outputs": [
    {
     "name": "stderr",
     "output_type": "stream",
     "text": [
      "/var/folders/1l/sg3g34f52kz5h2zgvjwnpt4w6g5wdw/T/ipykernel_63645/1176614411.py:9: SettingWithCopyWarning: \n",
      "A value is trying to be set on a copy of a slice from a DataFrame\n",
      "\n",
      "See the caveats in the documentation: https://pandas.pydata.org/pandas-docs/stable/user_guide/indexing.html#returning-a-view-versus-a-copy\n",
      "  HET_visible_galaxies.loc[i] = [RA[i], Dec[i], get_abs_from_app_mag(B_app[i], dist_Mpc[i]), get_abs_from_app_mag(K_app[i], dist_Mpc[i]), dist_Mpc[i]]\n"
     ]
    }
   ],
   "source": [
    "#print(\"B_app: \"+str(B_app))\n",
    "#print(\"length of B_app: \"+str(len(B_app)))\n",
    "#print(HET_visible_galaxies.loc[148])\n",
    "\n",
    "#B_abs = np.asarray([get_abs_from_app_mag(B_app[i], dist_Mpc[i]) for i, row in HET_visible_galaxies.iterrows()])\n",
    "#K_abs = np.asarray([get_abs_from_app_mag(K_app[i], dist_Mpc[i]) for i, row in HET_visible_galaxies.iterrows()])\n",
    "\n",
    "for i, row in HET_visible_galaxies.iterrows():\n",
    "    HET_visible_galaxies.loc[i] = [RA[i], Dec[i], get_abs_from_app_mag(B_app[i], dist_Mpc[i]), get_abs_from_app_mag(K_app[i], dist_Mpc[i]), dist_Mpc[i]]"
   ]
  },
  {
   "cell_type": "code",
   "execution_count": 8,
   "id": "deb7408e",
   "metadata": {},
   "outputs": [],
   "source": [
    "HET_visible_galaxies.to_csv(\"Glade_HET_Visible_Galaxies.csv\", sep=',')"
   ]
  },
  {
   "cell_type": "code",
   "execution_count": null,
   "id": "be7a5181",
   "metadata": {},
   "outputs": [],
   "source": []
  }
 ],
 "metadata": {
  "kernelspec": {
   "display_name": "Python 3 (ipykernel)",
   "language": "python",
   "name": "python3"
  },
  "language_info": {
   "codemirror_mode": {
    "name": "ipython",
    "version": 3
   },
   "file_extension": ".py",
   "mimetype": "text/x-python",
   "name": "python",
   "nbconvert_exporter": "python",
   "pygments_lexer": "ipython3",
   "version": "3.9.10"
  }
 },
 "nbformat": 4,
 "nbformat_minor": 5
}
